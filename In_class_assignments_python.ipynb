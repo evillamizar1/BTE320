{
  "nbformat": 4,
  "nbformat_minor": 0,
  "metadata": {
    "colab": {
      "provenance": [],
      "toc_visible": true,
      "authorship_tag": "ABX9TyOALDKNLXqO6V6SnKBtiP5a",
      "include_colab_link": true
    },
    "kernelspec": {
      "name": "python3",
      "display_name": "Python 3"
    },
    "language_info": {
      "name": "python"
    }
  },
  "cells": [
    {
      "cell_type": "markdown",
      "metadata": {
        "id": "view-in-github",
        "colab_type": "text"
      },
      "source": [
        "<a href=\"https://colab.research.google.com/github/evillamizar1/BTE320/blob/main/In_class_assignments_python.ipynb\" target=\"_parent\"><img src=\"https://colab.research.google.com/assets/colab-badge.svg\" alt=\"Open In Colab\"/></a>"
      ]
    },
    {
      "cell_type": "markdown",
      "source": [
        "August 26th"
      ],
      "metadata": {
        "id": "oeVmXyLnDzcg"
      }
    },
    {
      "cell_type": "code",
      "execution_count": null,
      "metadata": {
        "colab": {
          "base_uri": "https://localhost:8080/"
        },
        "id": "DSzo_SPiB0Br",
        "outputId": "cf2aaf97-094d-4bbf-802a-abbd9f47df68"
      },
      "outputs": [
        {
          "output_type": "stream",
          "name": "stdout",
          "text": [
            "244.92000000000002\n"
          ]
        }
      ],
      "source": [
        "r=3\n",
        "pi=3.14\n",
        "h=10\n",
        "Area= 2*pi*r**2+2*pi*r*h\n",
        "print(Area)"
      ]
    },
    {
      "cell_type": "markdown",
      "source": [
        "September 9th"
      ],
      "metadata": {
        "id": "sKvPRqHTLsMV"
      }
    },
    {
      "cell_type": "code",
      "source": [
        "p1= input('1, 2, 3 Rock, Paper or Scissor ')\n",
        "p2= input('1, 2, 3 Rock, Paper or Scissor ')\n",
        "\n",
        "if p1==p2:\n",
        "    print('tie')\n",
        "elif p1== 'Rock' and p2== 'Paper':\n",
        "    print('p2 wins')\n",
        "elif p1== 'Rock' and p2== 'Scissor':\n",
        "    print('p1 wins')\n",
        "elif p1== 'Paper' and p2== 'Rock':\n",
        "    print('p1 wins')\n",
        "elif p1== 'Paper' and p2== 'Scissor':\n",
        "    print('p2 wins')\n",
        "elif p1== 'Scissor' and p2== 'Paper':\n",
        "    print('p1 wins')\n",
        "elif p1== 'Scissor' and p2== 'Rock':\n",
        "    print('p2 wins')\n"
      ],
      "metadata": {
        "colab": {
          "base_uri": "https://localhost:8080/"
        },
        "id": "DxJdq-DxLpaM",
        "outputId": "6df3dd50-e452-4e70-caff-341842557c66"
      },
      "execution_count": null,
      "outputs": [
        {
          "output_type": "stream",
          "name": "stdout",
          "text": [
            "1, 2, 3 Rock, Paper or Scissor Rock\n",
            "1, 2, 3 Rock, Paper or Scissor Paper\n",
            "p2 wins\n"
          ]
        }
      ]
    },
    {
      "cell_type": "markdown",
      "source": [
        "September 11th"
      ],
      "metadata": {
        "id": "zPJKHRzhW-Q7"
      }
    },
    {
      "cell_type": "code",
      "source": [
        "n1= float(input('enter a number '))\n",
        "n2= float(input('enter a number '))\n",
        "symbol= input('enter a symbol among the following options +, -, *, /,** ')\n",
        "\n",
        "if symbol=='+':\n",
        "    print((n1)+(n2))\n",
        "if symbol=='-':\n",
        "    print((n1)-(n2))\n",
        "if symbol=='*':\n",
        "    print((n1)*(n2))\n",
        "if symbol=='/':\n",
        "    print((n1)/(n2))\n",
        "if symbol=='**':\n",
        "    print((n1)**(n2))"
      ],
      "metadata": {
        "colab": {
          "base_uri": "https://localhost:8080/"
        },
        "id": "4kk5vXrPXCu7",
        "outputId": "4b792b06-b881-4bf1-b4ce-09aaf15c0d63"
      },
      "execution_count": null,
      "outputs": [
        {
          "output_type": "stream",
          "name": "stdout",
          "text": [
            "enter a number 5.5\n",
            "enter a number 4\n",
            "enter a symbol among the following options +, -, *, /,** +\n",
            "9.5\n"
          ]
        }
      ]
    },
    {
      "cell_type": "code",
      "source": [
        "!pip install ColabTurtlePlus"
      ],
      "metadata": {
        "colab": {
          "base_uri": "https://localhost:8080/"
        },
        "id": "CKHoDb_pcs3V",
        "outputId": "9c97928c-078d-4a3b-f204-034d6bae3e99"
      },
      "execution_count": null,
      "outputs": [
        {
          "output_type": "stream",
          "name": "stdout",
          "text": [
            "Collecting ColabTurtlePlus\n",
            "  Downloading ColabTurtlePlus-2.0.1-py3-none-any.whl.metadata (10 kB)\n",
            "Downloading ColabTurtlePlus-2.0.1-py3-none-any.whl (31 kB)\n",
            "Installing collected packages: ColabTurtlePlus\n",
            "Successfully installed ColabTurtlePlus-2.0.1\n"
          ]
        }
      ]
    },
    {
      "cell_type": "code",
      "source": [
        "from ColabTurtlePlus.Turtle import *\n",
        "\n",
        "clearscreen()\n",
        "\n",
        "reset=True\n",
        "\n",
        "if reset:\n",
        "  clear()\n",
        "\n",
        "color('black', 'green')\n",
        "shape('blank')\n",
        "begin_fill()\n",
        "jumpto(0,0)\n",
        "\n",
        "forward(100)\n",
        "left(90)\n",
        "forward(100)\n",
        "left(90)\n",
        "forward(100)\n",
        "left(90)\n",
        "forward(100)\n",
        "left(90)\n",
        "\n",
        "penup()\n",
        "end_fill()"
      ],
      "metadata": {
        "colab": {
          "base_uri": "https://localhost:8080/",
          "height": 621
        },
        "id": "CBxk7VBkc46j",
        "outputId": "acde409b-48cb-4109-9e57-69fee9022dc6"
      },
      "execution_count": null,
      "outputs": [
        {
          "output_type": "display_data",
          "data": {
            "text/plain": [
              "<IPython.core.display.HTML object>"
            ],
            "text/html": [
              "\n",
              "      <svg width=\"800\" height=\"600\">  \n",
              "        <rect width=\"100%\" height=\"100%\" style=\"fill:white;stroke:;stroke-width:1\"/>\n",
              "        \n",
              "        \n",
              "        <path fill-rule=\"evenodd\" fill-opacity=\"1\" d=\"M 400.0 300.0  L 400.0 300.0  L 500.0 300.0  L 500.0 200.0  L 400.0 200.0  L 400.0 300.0 \" stroke-linecap=\"round\" style=\"stroke:none;stroke-width:1\" fill=\"green\" />\n",
              "        \n",
              "        \n",
              "        \n",
              "      </svg>\n",
              "    "
            ]
          },
          "metadata": {}
        }
      ]
    },
    {
      "cell_type": "code",
      "source": [
        "from ColabTurtlePlus.Turtle import *\n",
        "\n",
        "clearscreen()\n",
        "\n",
        "reset=True\n",
        "\n",
        "if reset:\n",
        "  clear()\n",
        "\n",
        "color('black', 'pink')\n",
        "shape('blank')\n",
        "begin_fill()\n",
        "jumpto(0,0)\n",
        "\n",
        "for i in range(4):\n",
        "  forward(100)\n",
        "  left(90)\n",
        "\n",
        "penup()\n",
        "end_fill()"
      ],
      "metadata": {
        "colab": {
          "base_uri": "https://localhost:8080/",
          "height": 621
        },
        "id": "RC-_dHYHfMEJ",
        "outputId": "ec996df7-c498-407c-d522-0d01e0480661"
      },
      "execution_count": null,
      "outputs": [
        {
          "output_type": "display_data",
          "data": {
            "text/plain": [
              "<IPython.core.display.HTML object>"
            ],
            "text/html": [
              "\n",
              "      <svg width=\"800\" height=\"600\">  \n",
              "        <rect width=\"100%\" height=\"100%\" style=\"fill:white;stroke:;stroke-width:1\"/>\n",
              "        \n",
              "        \n",
              "        <path fill-rule=\"evenodd\" fill-opacity=\"1\" d=\"M 400.0 300.0  L 400.0 300.0  L 500.0 300.0  L 500.0 200.0  L 400.0 200.0  L 400.0 300.0 \" stroke-linecap=\"round\" style=\"stroke:none;stroke-width:1\" fill=\"pink\" />\n",
              "        \n",
              "        \n",
              "        \n",
              "      </svg>\n",
              "    "
            ]
          },
          "metadata": {}
        }
      ]
    },
    {
      "cell_type": "code",
      "source": [
        "for i in range(0,11,2):\n",
        "  print(i, end=' ')"
      ],
      "metadata": {
        "colab": {
          "base_uri": "https://localhost:8080/"
        },
        "id": "cuJQU9nKjFqI",
        "outputId": "90c46844-9500-446a-cb0d-11dedbcd835c"
      },
      "execution_count": null,
      "outputs": [
        {
          "output_type": "stream",
          "name": "stdout",
          "text": [
            "0 2 4 6 8 10 "
          ]
        }
      ]
    },
    {
      "cell_type": "markdown",
      "source": [
        "**SEPTEMBER 16th**"
      ],
      "metadata": {
        "id": "l74pJF22Ogf0"
      }
    },
    {
      "cell_type": "code",
      "source": [
        "choice= input('Do you want to play a game, yes or no?')\n",
        "\n",
        "while choice == 'yes':\n",
        "\n",
        "\n",
        "  p1= input('1, 2, 3 Rock, Paper or Scissor ')\n",
        "  p2= input('1, 2, 3 Rock, Paper or Scissor ')\n",
        "\n",
        "  if p1==p2:\n",
        "    print('tie')\n",
        "  elif p1== 'Rock' and p2== 'Paper':\n",
        "    print('p2 wins')\n",
        "  elif p1== 'Rock' and p2== 'Scissor':\n",
        "    print('p1 wins')\n",
        "  elif p1== 'Paper' and p2== 'Rock':\n",
        "    print('p1 wins')\n",
        "  elif p1== 'Paper' and p2== 'Scissor':\n",
        "    print('p2 wins')\n",
        "  elif p1== 'Scissor' and p2== 'Paper':\n",
        "    print('p1 wins')\n",
        "  elif p1== 'Scissor' and p2== 'Rock':\n",
        "    print('p2 wins')\n",
        "\n",
        "  choice= input('Do you want to play a game, yes or no?')"
      ],
      "metadata": {
        "colab": {
          "base_uri": "https://localhost:8080/"
        },
        "id": "TJFJKt1MOf-B",
        "outputId": "f0f9db06-a5b8-44c0-8a80-fbb74c23e6bc"
      },
      "execution_count": 1,
      "outputs": [
        {
          "name": "stdout",
          "output_type": "stream",
          "text": [
            "Do you want to play a game, yes or no?yes\n",
            "1, 2, 3 Rock, Paper or Scissor Paper\n",
            "1, 2, 3 Rock, Paper or Scissor Rock\n",
            "p1 wins\n",
            "Do you want to play a game, yes or no?no\n"
          ]
        }
      ]
    },
    {
      "cell_type": "code",
      "source": [
        "choice= input('Do you want to play a game, yes or no?').lower()\n",
        "\n",
        "while choice == 'yes':\n",
        "\n",
        "\n",
        "  p1= input('1, 2, 3 Rock, Paper or Scissor ').lower()\n",
        "  p2= input('1, 2, 3 Rock, Paper or Scissor ').lower()\n",
        "\n",
        "  if p1==p2:\n",
        "    print('tie')\n",
        "  elif p1== 'Rock' and p2== 'Paper':\n",
        "    print('p2 wins')\n",
        "  elif p1== 'Rock' and p2== 'Scissor':\n",
        "    print('p1 wins')\n",
        "  elif p1== 'Paper' and p2== 'Rock':\n",
        "    print('p1 wins')\n",
        "  elif p1== 'Paper' and p2== 'Scissor':\n",
        "    print('p2 wins')\n",
        "  elif p1== 'Scissor' and p2== 'Paper':\n",
        "    print('p1 wins')\n",
        "  elif p1== 'Scissor' and p2== 'Rock':\n",
        "    print('p2 wins')\n",
        "\n",
        "  choice= input('Do you want to play a game, yes or no?')"
      ],
      "metadata": {
        "colab": {
          "base_uri": "https://localhost:8080/"
        },
        "id": "0_35Wy8aUxKt",
        "outputId": "932cbd84-cf22-4a8e-f781-e6bda0ca7c0e"
      },
      "execution_count": null,
      "outputs": [
        {
          "name": "stdout",
          "output_type": "stream",
          "text": [
            "Do you want to play a game, yes or no?Yes\n",
            "1, 2, 3 Rock, Paper or Scissor j\n",
            "1, 2, 3 Rock, Paper or Scissor x\n"
          ]
        }
      ]
    },
    {
      "cell_type": "code",
      "source": [
        "choice= input('Do you want to play a game, yes or no?').lower()\n",
        "\n",
        "while choice == 'yes':\n",
        "\n",
        "\n",
        "  p1= input('1, 2, 3 Rock, Paper or Scissor ').lower()\n",
        "  p2= random.choice([ '1, 2, 3 Rock, Paper or Scissor '])\n",
        "\n",
        "  if p1==p2:\n",
        "    print('tie')\n",
        "  elif p1== 'Rock' and p2== 'Paper':\n",
        "    print('p2 wins')\n",
        "  elif p1== 'Rock' and p2== 'Scissor':\n",
        "    print('p1 wins')\n",
        "  elif p1== 'Paper' and p2== 'Rock':\n",
        "    print('p1 wins')\n",
        "  elif p1== 'Paper' and p2== 'Scissor':\n",
        "    print('p2 wins')\n",
        "  elif p1== 'Scissor' and p2== 'Paper':\n",
        "    print('p1 wins')\n",
        "  elif p1== 'Scissor' and p2== 'Rock':\n",
        "    print('p2 wins')\n",
        "\n",
        "  choice= input('Do you want to play a game, yes or no?')"
      ],
      "metadata": {
        "id": "SjktUsPQVdRm"
      },
      "execution_count": null,
      "outputs": []
    }
  ]
}