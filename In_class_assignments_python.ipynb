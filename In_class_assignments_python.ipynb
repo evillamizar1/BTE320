{
  "nbformat": 4,
  "nbformat_minor": 0,
  "metadata": {
    "colab": {
      "provenance": [],
      "toc_visible": true,
      "authorship_tag": "ABX9TyO7F8U+LLubK5Q+i9w/3I2h",
      "include_colab_link": true
    },
    "kernelspec": {
      "name": "python3",
      "display_name": "Python 3"
    },
    "language_info": {
      "name": "python"
    }
  },
  "cells": [
    {
      "cell_type": "markdown",
      "metadata": {
        "id": "view-in-github",
        "colab_type": "text"
      },
      "source": [
        "<a href=\"https://colab.research.google.com/github/evillamizar1/BTE320/blob/main/In_class_assignments_python.ipynb\" target=\"_parent\"><img src=\"https://colab.research.google.com/assets/colab-badge.svg\" alt=\"Open In Colab\"/></a>"
      ]
    },
    {
      "cell_type": "markdown",
      "source": [
        "August 26th"
      ],
      "metadata": {
        "id": "oeVmXyLnDzcg"
      }
    },
    {
      "cell_type": "code",
      "execution_count": null,
      "metadata": {
        "colab": {
          "base_uri": "https://localhost:8080/"
        },
        "id": "DSzo_SPiB0Br",
        "outputId": "cf2aaf97-094d-4bbf-802a-abbd9f47df68"
      },
      "outputs": [
        {
          "output_type": "stream",
          "name": "stdout",
          "text": [
            "244.92000000000002\n"
          ]
        }
      ],
      "source": [
        "r=3\n",
        "pi=3.14\n",
        "h=10\n",
        "Area= 2*pi*r**2+2*pi*r*h\n",
        "print(Area)"
      ]
    },
    {
      "cell_type": "markdown",
      "source": [
        "September 9th"
      ],
      "metadata": {
        "id": "sKvPRqHTLsMV"
      }
    },
    {
      "cell_type": "code",
      "source": [
        "p1= input('1, 2, 3 Rock, Paper or Scissor ')\n",
        "p2= input('1, 2, 3 Rock, Paper or Scissor ')\n",
        "\n",
        "if p1==p2:\n",
        "    print('tie')\n",
        "elif p1== 'Rock' and p2== 'Paper':\n",
        "    print('p2 wins')\n",
        "elif p1== 'Rock' and p2== 'Scissor':\n",
        "    print('p1 wins')\n",
        "elif p1== 'Paper' and p2== 'Rock':\n",
        "    print('p1 wins')\n",
        "elif p1== 'Paper' and p2== 'Scissor':\n",
        "    print('p2 wins')\n",
        "elif p1== 'Scissor' and p2== 'Paper':\n",
        "    print('p1 wins')\n",
        "elif p1== 'Scissor' and p2== 'Rock':\n",
        "    print('p2 wins')\n"
      ],
      "metadata": {
        "colab": {
          "base_uri": "https://localhost:8080/"
        },
        "id": "DxJdq-DxLpaM",
        "outputId": "6df3dd50-e452-4e70-caff-341842557c66"
      },
      "execution_count": null,
      "outputs": [
        {
          "output_type": "stream",
          "name": "stdout",
          "text": [
            "1, 2, 3 Rock, Paper or Scissor Rock\n",
            "1, 2, 3 Rock, Paper or Scissor Paper\n",
            "p2 wins\n"
          ]
        }
      ]
    },
    {
      "cell_type": "markdown",
      "source": [
        "September 11th"
      ],
      "metadata": {
        "id": "zPJKHRzhW-Q7"
      }
    },
    {
      "cell_type": "code",
      "source": [
        "n1= float(input('enter a number '))\n",
        "n2= float(input('enter a number '))\n",
        "symbol= input('enter a symbol among the following options +, -, *, /,** ')\n",
        "\n",
        "if symbol=='+':\n",
        "    print((n1)+(n2))\n",
        "if symbol=='-':\n",
        "    print((n1)-(n2))\n",
        "if symbol=='*':\n",
        "    print((n1)*(n2))\n",
        "if symbol=='/':\n",
        "    print((n1)/(n2))\n",
        "if symbol=='**':\n",
        "    print((n1)**(n2))"
      ],
      "metadata": {
        "colab": {
          "base_uri": "https://localhost:8080/"
        },
        "id": "4kk5vXrPXCu7",
        "outputId": "4b792b06-b881-4bf1-b4ce-09aaf15c0d63"
      },
      "execution_count": 5,
      "outputs": [
        {
          "output_type": "stream",
          "name": "stdout",
          "text": [
            "enter a number 5.5\n",
            "enter a number 4\n",
            "enter a symbol among the following options +, -, *, /,** +\n",
            "9.5\n"
          ]
        }
      ]
    }
  ]
}