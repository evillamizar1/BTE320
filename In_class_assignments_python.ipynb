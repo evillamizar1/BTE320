{
  "nbformat": 4,
  "nbformat_minor": 0,
  "metadata": {
    "colab": {
      "provenance": [],
      "authorship_tag": "ABX9TyPDDW4UVGtdWM7M2mvI4iva",
      "include_colab_link": true
    },
    "kernelspec": {
      "name": "python3",
      "display_name": "Python 3"
    },
    "language_info": {
      "name": "python"
    }
  },
  "cells": [
    {
      "cell_type": "markdown",
      "metadata": {
        "id": "view-in-github",
        "colab_type": "text"
      },
      "source": [
        "<a href=\"https://colab.research.google.com/github/evillamizar1/BTE320/blob/main/In_class_assignments_python.ipynb\" target=\"_parent\"><img src=\"https://colab.research.google.com/assets/colab-badge.svg\" alt=\"Open In Colab\"/></a>"
      ]
    },
    {
      "cell_type": "markdown",
      "source": [
        "August 26th"
      ],
      "metadata": {
        "id": "oeVmXyLnDzcg"
      }
    },
    {
      "cell_type": "code",
      "execution_count": null,
      "metadata": {
        "colab": {
          "base_uri": "https://localhost:8080/"
        },
        "id": "DSzo_SPiB0Br",
        "outputId": "cf2aaf97-094d-4bbf-802a-abbd9f47df68"
      },
      "outputs": [
        {
          "output_type": "stream",
          "name": "stdout",
          "text": [
            "244.92000000000002\n"
          ]
        }
      ],
      "source": [
        "r=3\n",
        "pi=3.14\n",
        "h=10\n",
        "Area= 2*pi*r**2+2*pi*r*h\n",
        "print(Area)"
      ]
    },
    {
      "cell_type": "markdown",
      "source": [
        "September 9th"
      ],
      "metadata": {
        "id": "sKvPRqHTLsMV"
      }
    },
    {
      "cell_type": "code",
      "source": [
        "p1= input('1, 2, 3 Rock, Paper or Scissor ')\n",
        "p2= input('1, 2, 3 Rock, Paper or Scissor ')\n",
        "\n",
        "if p1==p2:\n",
        "    print('tie')\n",
        "elif p1== 'Rock' and p2== 'Paper':\n",
        "    print('p2 wins')\n",
        "elif p1== 'Rock' and p2== 'Scissor':\n",
        "    print('p1 wins')\n",
        "elif p1== 'Paper' and p2== 'Rock':\n",
        "    print('p1 wins')\n",
        "elif p1== 'Paper' and p2== 'Scissor':\n",
        "    print('p2 wins')\n",
        "elif p1== 'Scissor' and p2== 'Paper':\n",
        "    print('p1 wins')\n",
        "elif p1== 'Scissor' and p2== 'Rock':\n",
        "    print('p2 wins')\n"
      ],
      "metadata": {
        "colab": {
          "base_uri": "https://localhost:8080/"
        },
        "id": "DxJdq-DxLpaM",
        "outputId": "6df3dd50-e452-4e70-caff-341842557c66"
      },
      "execution_count": null,
      "outputs": [
        {
          "output_type": "stream",
          "name": "stdout",
          "text": [
            "1, 2, 3 Rock, Paper or Scissor Rock\n",
            "1, 2, 3 Rock, Paper or Scissor Paper\n",
            "p2 wins\n"
          ]
        }
      ]
    },
    {
      "cell_type": "markdown",
      "source": [
        "September 11th"
      ],
      "metadata": {
        "id": "zPJKHRzhW-Q7"
      }
    },
    {
      "cell_type": "code",
      "source": [
        "n1= float(input('enter a number '))\n",
        "n2= float(input('enter a number '))\n",
        "symbol= input('enter a symbol among the following options +, -, *, /,** ')\n",
        "\n",
        "if symbol=='+':\n",
        "    print((n1)+(n2))\n",
        "if symbol=='-':\n",
        "    print((n1)-(n2))\n",
        "if symbol=='*':\n",
        "    print((n1)*(n2))\n",
        "if symbol=='/':\n",
        "    print((n1)/(n2))\n",
        "if symbol=='**':\n",
        "    print((n1)**(n2))"
      ],
      "metadata": {
        "colab": {
          "base_uri": "https://localhost:8080/"
        },
        "id": "4kk5vXrPXCu7",
        "outputId": "4b792b06-b881-4bf1-b4ce-09aaf15c0d63"
      },
      "execution_count": null,
      "outputs": [
        {
          "output_type": "stream",
          "name": "stdout",
          "text": [
            "enter a number 5.5\n",
            "enter a number 4\n",
            "enter a symbol among the following options +, -, *, /,** +\n",
            "9.5\n"
          ]
        }
      ]
    },
    {
      "cell_type": "code",
      "source": [
        "!pip install ColabTurtlePlus"
      ],
      "metadata": {
        "colab": {
          "base_uri": "https://localhost:8080/"
        },
        "id": "CKHoDb_pcs3V",
        "outputId": "9c97928c-078d-4a3b-f204-034d6bae3e99"
      },
      "execution_count": null,
      "outputs": [
        {
          "output_type": "stream",
          "name": "stdout",
          "text": [
            "Collecting ColabTurtlePlus\n",
            "  Downloading ColabTurtlePlus-2.0.1-py3-none-any.whl.metadata (10 kB)\n",
            "Downloading ColabTurtlePlus-2.0.1-py3-none-any.whl (31 kB)\n",
            "Installing collected packages: ColabTurtlePlus\n",
            "Successfully installed ColabTurtlePlus-2.0.1\n"
          ]
        }
      ]
    },
    {
      "cell_type": "code",
      "source": [
        "from ColabTurtlePlus.Turtle import *\n",
        "\n",
        "clearscreen()\n",
        "\n",
        "reset=True\n",
        "\n",
        "if reset:\n",
        "  clear()\n",
        "\n",
        "color('black', 'green')\n",
        "shape('blank')\n",
        "begin_fill()\n",
        "jumpto(0,0)\n",
        "\n",
        "forward(100)\n",
        "left(90)\n",
        "forward(100)\n",
        "left(90)\n",
        "forward(100)\n",
        "left(90)\n",
        "forward(100)\n",
        "left(90)\n",
        "\n",
        "penup()\n",
        "end_fill()"
      ],
      "metadata": {
        "colab": {
          "base_uri": "https://localhost:8080/",
          "height": 621
        },
        "id": "CBxk7VBkc46j",
        "outputId": "acde409b-48cb-4109-9e57-69fee9022dc6"
      },
      "execution_count": null,
      "outputs": [
        {
          "output_type": "display_data",
          "data": {
            "text/plain": [
              "<IPython.core.display.HTML object>"
            ],
            "text/html": [
              "\n",
              "      <svg width=\"800\" height=\"600\">  \n",
              "        <rect width=\"100%\" height=\"100%\" style=\"fill:white;stroke:;stroke-width:1\"/>\n",
              "        \n",
              "        \n",
              "        <path fill-rule=\"evenodd\" fill-opacity=\"1\" d=\"M 400.0 300.0  L 400.0 300.0  L 500.0 300.0  L 500.0 200.0  L 400.0 200.0  L 400.0 300.0 \" stroke-linecap=\"round\" style=\"stroke:none;stroke-width:1\" fill=\"green\" />\n",
              "        \n",
              "        \n",
              "        \n",
              "      </svg>\n",
              "    "
            ]
          },
          "metadata": {}
        }
      ]
    },
    {
      "cell_type": "code",
      "source": [
        "from ColabTurtlePlus.Turtle import *\n",
        "\n",
        "clearscreen()\n",
        "\n",
        "reset=True\n",
        "\n",
        "if reset:\n",
        "  clear()\n",
        "\n",
        "color('black', 'pink')\n",
        "shape('blank')\n",
        "begin_fill()\n",
        "jumpto(0,0)\n",
        "\n",
        "for i in range(4):\n",
        "  forward(100)\n",
        "  left(90)\n",
        "\n",
        "penup()\n",
        "end_fill()"
      ],
      "metadata": {
        "colab": {
          "base_uri": "https://localhost:8080/",
          "height": 621
        },
        "id": "RC-_dHYHfMEJ",
        "outputId": "ec996df7-c498-407c-d522-0d01e0480661"
      },
      "execution_count": null,
      "outputs": [
        {
          "output_type": "display_data",
          "data": {
            "text/plain": [
              "<IPython.core.display.HTML object>"
            ],
            "text/html": [
              "\n",
              "      <svg width=\"800\" height=\"600\">  \n",
              "        <rect width=\"100%\" height=\"100%\" style=\"fill:white;stroke:;stroke-width:1\"/>\n",
              "        \n",
              "        \n",
              "        <path fill-rule=\"evenodd\" fill-opacity=\"1\" d=\"M 400.0 300.0  L 400.0 300.0  L 500.0 300.0  L 500.0 200.0  L 400.0 200.0  L 400.0 300.0 \" stroke-linecap=\"round\" style=\"stroke:none;stroke-width:1\" fill=\"pink\" />\n",
              "        \n",
              "        \n",
              "        \n",
              "      </svg>\n",
              "    "
            ]
          },
          "metadata": {}
        }
      ]
    },
    {
      "cell_type": "code",
      "source": [
        "for i in range(0,11,2):\n",
        "  print(i, end=' ')"
      ],
      "metadata": {
        "colab": {
          "base_uri": "https://localhost:8080/"
        },
        "id": "cuJQU9nKjFqI",
        "outputId": "90c46844-9500-446a-cb0d-11dedbcd835c"
      },
      "execution_count": null,
      "outputs": [
        {
          "output_type": "stream",
          "name": "stdout",
          "text": [
            "0 2 4 6 8 10 "
          ]
        }
      ]
    },
    {
      "cell_type": "markdown",
      "source": [
        "**SEPTEMBER 16th**"
      ],
      "metadata": {
        "id": "l74pJF22Ogf0"
      }
    },
    {
      "cell_type": "code",
      "source": [
        "choice= input('Do you want to play a game, yes or no?')\n",
        "\n",
        "while choice == 'yes':\n",
        "\n",
        "\n",
        "  p1= input('1, 2, 3 Rock, Paper or Scissor ')\n",
        "  p2= input('1, 2, 3 Rock, Paper or Scissor ')\n",
        "\n",
        "  if p1==p2:\n",
        "    print('tie')\n",
        "  elif p1== 'Rock' and p2== 'Paper':\n",
        "    print('p2 wins')\n",
        "  elif p1== 'Rock' and p2== 'Scissor':\n",
        "    print('p1 wins')\n",
        "  elif p1== 'Paper' and p2== 'Rock':\n",
        "    print('p1 wins')\n",
        "  elif p1== 'Paper' and p2== 'Scissor':\n",
        "    print('p2 wins')\n",
        "  elif p1== 'Scissor' and p2== 'Paper':\n",
        "    print('p1 wins')\n",
        "  elif p1== 'Scissor' and p2== 'Rock':\n",
        "    print('p2 wins')\n",
        "\n",
        "  choice= input('Do you want to play a game, yes or no?')"
      ],
      "metadata": {
        "colab": {
          "base_uri": "https://localhost:8080/"
        },
        "id": "TJFJKt1MOf-B",
        "outputId": "f0f9db06-a5b8-44c0-8a80-fbb74c23e6bc"
      },
      "execution_count": null,
      "outputs": [
        {
          "name": "stdout",
          "output_type": "stream",
          "text": [
            "Do you want to play a game, yes or no?yes\n",
            "1, 2, 3 Rock, Paper or Scissor Paper\n",
            "1, 2, 3 Rock, Paper or Scissor Rock\n",
            "p1 wins\n",
            "Do you want to play a game, yes or no?no\n"
          ]
        }
      ]
    },
    {
      "cell_type": "code",
      "source": [
        "choice= input('Do you want to play a game, yes or no?').lower()\n",
        "\n",
        "while choice == 'yes':\n",
        "\n",
        "\n",
        "  p1= input('1, 2, 3 Rock, Paper or Scissor ').lower()\n",
        "  p2= input('1, 2, 3 Rock, Paper or Scissor ').lower()\n",
        "\n",
        "  if p1==p2:\n",
        "    print('tie')\n",
        "  elif p1== 'Rock' and p2== 'Paper':\n",
        "    print('p2 wins')\n",
        "  elif p1== 'Rock' and p2== 'Scissor':\n",
        "    print('p1 wins')\n",
        "  elif p1== 'Paper' and p2== 'Rock':\n",
        "    print('p1 wins')\n",
        "  elif p1== 'Paper' and p2== 'Scissor':\n",
        "    print('p2 wins')\n",
        "  elif p1== 'Scissor' and p2== 'Paper':\n",
        "    print('p1 wins')\n",
        "  elif p1== 'Scissor' and p2== 'Rock':\n",
        "    print('p2 wins')\n",
        "\n",
        "  choice= input('Do you want to play a game, yes or no?')"
      ],
      "metadata": {
        "id": "0_35Wy8aUxKt"
      },
      "execution_count": null,
      "outputs": []
    },
    {
      "cell_type": "code",
      "source": [
        "choice= input('Do you want to play a game, yes or no?').lower()\n",
        "\n",
        "while choice == 'yes':\n",
        "\n",
        "\n",
        "  p1= input('1, 2, 3 Rock, Paper or Scissor ').lower()\n",
        "  p2= random.choice([ '1, 2, 3 Rock, Paper or Scissor '])\n",
        "\n",
        "  if p1==p2:\n",
        "    print('tie')\n",
        "  elif p1== 'Rock' and p2== 'Paper':\n",
        "    print('p2 wins')\n",
        "  elif p1== 'Rock' and p2== 'Scissor':\n",
        "    print('p1 wins')\n",
        "  elif p1== 'Paper' and p2== 'Rock':\n",
        "    print('p1 wins')\n",
        "  elif p1== 'Paper' and p2== 'Scissor':\n",
        "    print('p2 wins')\n",
        "  elif p1== 'Scissor' and p2== 'Paper':\n",
        "    print('p1 wins')\n",
        "  elif p1== 'Scissor' and p2== 'Rock':\n",
        "    print('p2 wins')\n",
        "\n",
        "  choice= input('Do you want to play a game, yes or no?')"
      ],
      "metadata": {
        "id": "SjktUsPQVdRm"
      },
      "execution_count": null,
      "outputs": []
    },
    {
      "cell_type": "markdown",
      "source": [
        "SEPTEMBER 18th"
      ],
      "metadata": {
        "id": "EQ-tbPmqap8v"
      }
    },
    {
      "cell_type": "code",
      "source": [
        "flat_rate= 5\n",
        "hour_rate= 2.5\n",
        "\n",
        "for i in range (1, 9,1):\n",
        "     print(i,flat_rate + hour_rate*i )\n",
        "\n",
        "\n"
      ],
      "metadata": {
        "colab": {
          "base_uri": "https://localhost:8080/"
        },
        "id": "QZSkOhZfZ-ux",
        "outputId": "c94e3458-bc13-49ca-bad2-5b04519b8783"
      },
      "execution_count": null,
      "outputs": [
        {
          "output_type": "stream",
          "name": "stdout",
          "text": [
            "1 7.5\n",
            "2 10.0\n",
            "3 12.5\n",
            "4 15.0\n",
            "5 17.5\n",
            "6 20.0\n",
            "7 22.5\n",
            "8 25.0\n"
          ]
        }
      ]
    },
    {
      "cell_type": "code",
      "source": [
        "flat_rate= 5\n",
        "hour_rate= 2.5\n",
        "\n",
        "for i in range (1, 9, 1):\n",
        "  if flat_rate + hour_rate*i < 11:\n",
        "    print(i, 10)\n",
        "\n",
        "  elif flat_rate + hour_rate*i > 20:\n",
        "    print(i, 20)\n",
        "\n",
        "  elif flat_rate + hour_rate*i > 11:\n",
        "    print(i,flat_rate + hour_rate*i )\n",
        "\n",
        "\n",
        "\n"
      ],
      "metadata": {
        "colab": {
          "base_uri": "https://localhost:8080/"
        },
        "id": "g7NCKUz1bxdp",
        "outputId": "888a7460-ef04-4e45-aa8b-866c92f60295"
      },
      "execution_count": null,
      "outputs": [
        {
          "output_type": "stream",
          "name": "stdout",
          "text": [
            "1 10\n",
            "2 10\n",
            "3 12.5\n",
            "4 15.0\n",
            "5 17.5\n",
            "6 20.0\n",
            "7 20\n",
            "8 20\n"
          ]
        }
      ]
    },
    {
      "cell_type": "code",
      "source": [
        "flat_rate= 5\n",
        "hour_rate= 2.5\n",
        "\n",
        "for i in range (1, 9, 1):\n",
        "  if flat_rate + hour_rate*i < 11:\n",
        "    print(i, 10)\n",
        "\n",
        "  elif flat_rate + hour_rate*i < 21:\n",
        "    print(i,flat_rate + hour_rate*i )\n",
        "\n",
        "  else:\n",
        "    print(i, 20)\n",
        "\n"
      ],
      "metadata": {
        "colab": {
          "base_uri": "https://localhost:8080/"
        },
        "id": "tFMA4f8Ce8jk",
        "outputId": "6a50d062-64a0-481a-c631-88cbbef1a4ea"
      },
      "execution_count": null,
      "outputs": [
        {
          "output_type": "stream",
          "name": "stdout",
          "text": [
            "1 10\n",
            "2 10\n",
            "3 12.5\n",
            "4 15.0\n",
            "5 17.5\n",
            "6 20.0\n",
            "7 20\n",
            "8 20\n"
          ]
        }
      ]
    },
    {
      "cell_type": "code",
      "source": [
        "for ad in range (0, 201, 25):\n",
        "  additional= 2* round(ad**(0.5)) #the ,5 gives 5 decimals\n",
        "  profit= (20+additional)*10 -200-ad\n",
        "  print(ad, profit)\n"
      ],
      "metadata": {
        "colab": {
          "base_uri": "https://localhost:8080/"
        },
        "id": "6TXdkEn7lVqY",
        "outputId": "e01926c0-6084-4b52-ba40-4f01464ef3f8"
      },
      "execution_count": null,
      "outputs": [
        {
          "output_type": "stream",
          "name": "stdout",
          "text": [
            "0 0\n",
            "25 75\n",
            "50 90\n",
            "75 105\n",
            "100 100\n",
            "125 95\n",
            "150 90\n",
            "175 85\n",
            "200 80\n"
          ]
        }
      ]
    },
    {
      "cell_type": "code",
      "source": [
        "while cond:\n",
        "  expr\n",
        "  if cond2:\n",
        "    break\n",
        "\n",
        "    #if false expr expr expr"
      ],
      "metadata": {
        "id": "4bv5SdSYpfgk"
      },
      "execution_count": null,
      "outputs": []
    },
    {
      "cell_type": "markdown",
      "source": [
        "September 25th"
      ],
      "metadata": {
        "id": "G7OPdJGOMVOZ"
      }
    },
    {
      "cell_type": "code",
      "source": [
        "L = []\n",
        "i = int(input('Give a Value: '))\n",
        "\n",
        "while i != 0:\n",
        "  L.append(i)\n",
        "  i = int(input('Give another Value: '))\n",
        "\n",
        "print(L)"
      ],
      "metadata": {
        "colab": {
          "base_uri": "https://localhost:8080/"
        },
        "id": "1rV5VQ6dMRxw",
        "outputId": "1bcb0243-bc00-490d-8602-18988e25b442"
      },
      "execution_count": null,
      "outputs": [
        {
          "output_type": "stream",
          "name": "stdout",
          "text": [
            "Give a Value: 6\n",
            "Give another Value: 9\n",
            "Give another Value: 9\n",
            "Give another Value: 0\n",
            "[6, 9, 9]\n"
          ]
        }
      ]
    },
    {
      "cell_type": "markdown",
      "source": [
        "September 30th"
      ],
      "metadata": {
        "id": "yQIvKMrHWJEn"
      }
    },
    {
      "cell_type": "code",
      "source": [
        "months= {}\n",
        "\n",
        "names= [\"Jan\", \"Feb\", \"Mar\", \"Apr\", \"May\", \"Jun\", \"Jul\", \"Aug\", \"Sep\", \"Oct\", \"Nov\", \"Dec\"]\n",
        "numbers=[1,2,3,4,5,6,7,8,9,10,11,12]\n",
        "\n",
        "for i in range(len(names)):\n",
        "  months[names[i]]= numbers[i]\n",
        "\n",
        "print(months)"
      ],
      "metadata": {
        "colab": {
          "base_uri": "https://localhost:8080/"
        },
        "id": "9VJ6KTTHWH7r",
        "outputId": "819d4f7a-582b-4dad-beb2-022d2b9a24d3"
      },
      "execution_count": null,
      "outputs": [
        {
          "output_type": "stream",
          "name": "stdout",
          "text": [
            "{'Jan': 1, 'Feb': 2, 'Mar': 3, 'Apr': 4, 'May': 5, 'Jun': 6, 'Jul': 7, 'Aug': 8, 'Sep': 9, 'Oct': 10, 'Nov': 11, 'Dec': 12}\n"
          ]
        }
      ]
    },
    {
      "cell_type": "code",
      "source": [
        "months= {}\n",
        "\n",
        "names= [\"Jan\", \"Feb\", \"Mar\", \"Apr\", \"May\", \"Jun\", \"Jul\", \"Aug\", \"Sep\", \"Oct\", \"Nov\", \"Dec\"]\n",
        "numbers=[1,2,3,4,5,6,7,8,9,10,11,12]\n",
        "\n",
        "for i in range(1,13):\n",
        "  months[i]= names[i-1]\n",
        "\n",
        "print(months)"
      ],
      "metadata": {
        "colab": {
          "base_uri": "https://localhost:8080/"
        },
        "id": "pwtQYykTZWv9",
        "outputId": "0243f85b-31fa-41f9-f75b-23d61140c199"
      },
      "execution_count": null,
      "outputs": [
        {
          "output_type": "stream",
          "name": "stdout",
          "text": [
            "{1: 'Jan', 2: 'Feb', 3: 'Mar', 4: 'Apr', 5: 'May', 6: 'Jun', 7: 'Jul', 8: 'Aug', 9: 'Sep', 10: 'Oct', 11: 'Nov', 12: 'Dec'}\n"
          ]
        }
      ]
    },
    {
      "cell_type": "markdown",
      "source": [
        "Remote Lecture"
      ],
      "metadata": {
        "id": "ef6tVVyYaAfm"
      }
    },
    {
      "cell_type": "code",
      "source": [
        "annual_salary = float(input('Enter Salary: '))\n",
        "portion_saved = float(input('Enter Portion to Save (as a decimal): '))\n",
        "total_cost = float(input('Enter the Cost of the House: '))\n",
        "\n",
        "portion_down_payment = 0.25\n",
        "r = 0.04\n",
        "\n",
        "down_payment = total_cost * portion_down_payment\n",
        "current_savings = 0\n",
        "months = 0\n",
        "\n",
        "while current_savings < down_payment:\n",
        "    current_savings += current_savings * (r / 12) + (portion_saved * (annual_salary / 12))\n",
        "    months += 1\n",
        "\n",
        "print(f\"Number of months: {months}\")"
      ],
      "metadata": {
        "colab": {
          "base_uri": "https://localhost:8080/"
        },
        "id": "3ji1LO-uaClC",
        "outputId": "ad9a2015-8810-4e76-d566-caf3c2e90056"
      },
      "execution_count": null,
      "outputs": [
        {
          "output_type": "stream",
          "name": "stdout",
          "text": [
            "Enter Salary: 80\n",
            "Enter Portion to Save (as a decimal): 0.9\n",
            "Enter the Cost of the House: 90\n",
            "Number of months: 4\n"
          ]
        }
      ]
    },
    {
      "cell_type": "code",
      "source": [
        "annual_salary = float(input('Enter your annual salary: '))\n",
        "portion_saved = float(input('Enter the percent of your salary to save, as a decimal: '))\n",
        "total_cost = float(input('Enter the cost of your dream home: '))\n",
        "semi_annual_raise = float(input('Enter the semi-annual raise, as a decimal: '))\n",
        "\n",
        "portion_down_payment = 0.25\n",
        "r = 0.04\n",
        "\n",
        "down_payment = total_cost * portion_down_payment\n",
        "current_savings = 0\n",
        "months = 0\n",
        "\n",
        "while current_savings < down_payment:\n",
        "    current_savings += current_savings * (r / 12) + (portion_saved * (annual_salary / 12))\n",
        "    months += 1\n",
        "\n",
        "    if months % 6 == 0:\n",
        "        annual_salary += annual_salary * semi_annual_raise\n",
        "\n",
        "print(f\"Number of months: {months}\")"
      ],
      "metadata": {
        "colab": {
          "base_uri": "https://localhost:8080/"
        },
        "id": "FY3q8wq7aGlF",
        "outputId": "a256c744-f122-45a3-94b7-2f61f8a8134c"
      },
      "execution_count": null,
      "outputs": [
        {
          "output_type": "stream",
          "name": "stdout",
          "text": [
            "Enter your annual salary: 89\n",
            "Enter the percent of your salary to save, as a decimal: 0.8\n",
            "Enter the cost of your dream home: 90\n",
            "Enter the semi-annual raise, as a decimal: 0.8\n",
            "Number of months: 4\n"
          ]
        }
      ]
    },
    {
      "cell_type": "code",
      "source": [
        "def range_check(num, low, high):\n",
        "  if num >= low and num <= high:\n",
        "    return True\n",
        "  else:\n",
        "    return False\n",
        "\n",
        "print(range_check(2, 1, 3))"
      ],
      "metadata": {
        "colab": {
          "base_uri": "https://localhost:8080/"
        },
        "id": "ZJfq3Ve4aIUc",
        "outputId": "7983cdea-00e8-4748-84bb-9ab82684c1cd"
      },
      "execution_count": null,
      "outputs": [
        {
          "output_type": "stream",
          "name": "stdout",
          "text": [
            "True\n"
          ]
        }
      ]
    },
    {
      "cell_type": "markdown",
      "source": [
        "October 21st"
      ],
      "metadata": {
        "id": "ED21fVTYcIHR"
      }
    },
    {
      "cell_type": "code",
      "source": [
        "#A parking garage charges $5 plus $2.5 for each hour parked. Wirte a program does\n",
        "#promts for the number of hours parked, calcs and displays the parking fee charged\n",
        "#as part of program, define function that calculates the parking fee given the hours. Use the signtaure: def calcFee(hours)"
      ],
      "metadata": {
        "id": "lsQ9zg2dcKNL"
      },
      "execution_count": null,
      "outputs": []
    },
    {
      "cell_type": "code",
      "source": [
        "def calcFee(hours):\n",
        "  base_fee= 5\n",
        "  return hours*2.5 + base_fee\n",
        "\n",
        "hours= int(input('Enter the number of hours parked: '))\n",
        "\n",
        "print(\"$\",calcFee(hours) )\n",
        "\n",
        "\n",
        "\n"
      ],
      "metadata": {
        "colab": {
          "base_uri": "https://localhost:8080/"
        },
        "id": "i_pjI0CMcjpm",
        "outputId": "02aaf7f2-c452-43d9-c767-c301e15fa773"
      },
      "execution_count": null,
      "outputs": [
        {
          "output_type": "stream",
          "name": "stdout",
          "text": [
            "Enter the number of hours parked: 5\n",
            "$ 17.5\n"
          ]
        }
      ]
    },
    {
      "cell_type": "code",
      "source": [
        "def calcFee(hours, decimals=2):\n",
        "  fee= round(5 + hours* 2.5, decimals)\n",
        "  return fee\n",
        "def displayFee(fee):\n",
        "  print(fee)\n",
        "\n",
        "hours_parked= int(input('Enter the number of hours parked: '))\n",
        "f=calcFee(hours_parked)\n",
        "displayFee(f)"
      ],
      "metadata": {
        "colab": {
          "base_uri": "https://localhost:8080/"
        },
        "id": "YnBxrjlbizCT",
        "outputId": "92d539ef-c01f-4d59-a052-08ec70e536b0"
      },
      "execution_count": null,
      "outputs": [
        {
          "output_type": "stream",
          "name": "stdout",
          "text": [
            "Enter the number of hours parked: 4\n",
            "15.0\n"
          ]
        }
      ]
    },
    {
      "cell_type": "markdown",
      "source": [
        "Monday October 28th"
      ],
      "metadata": {
        "id": "Ua6DF1nhkkL_"
      }
    },
    {
      "cell_type": "code",
      "source": [
        "def rev(s):\n",
        "    if len(s) == 1:\n",
        "        return s\n",
        "    else:\n",
        "        return s[-1]+ rev(s[:-1])\n",
        "\n",
        "print(rev('hello'))"
      ],
      "metadata": {
        "colab": {
          "base_uri": "https://localhost:8080/"
        },
        "id": "AwTQYisEmcTy",
        "outputId": "b79e5043-26ec-4dad-b1bc-c9e953d2320d"
      },
      "execution_count": null,
      "outputs": [
        {
          "output_type": "stream",
          "name": "stdout",
          "text": [
            "olleh\n"
          ]
        }
      ]
    },
    {
      "cell_type": "markdown",
      "source": [
        "November 6th"
      ],
      "metadata": {
        "id": "gyfaAxMqBXXZ"
      }
    },
    {
      "cell_type": "code",
      "source": [
        "\"\"\"\n",
        "Function that calculates the weighted average of a list L, given weights Q\n",
        "The function should be able to handle the following error types:\n",
        "- ZeroDivisionEror (Return empty list)\n",
        "- TypeError (Return empty list)\n",
        "- Any other known error (returns float(\"nan\"))\n",
        "\"\"\"\n",
        "\n",
        "def wAvg(L, w):\n",
        "  res = []\n",
        "  try:\n",
        "    for i in range(len(L)):\n",
        "      res.append(L[i] * w[i]) #we use append because the list is empty and we want to add these\n",
        "    return sum(res) / sum(w)\n",
        "  except ZeroDivisionError:\n",
        "    return []\n",
        "  except TypeError:\n",
        "    print('Non numerical object found')\n",
        "    return []\n",
        "  except Exception as e:\n",
        "    print(f\"unknown error: {e} \")\n",
        "    return float(\"nan\")\n",
        "\n",
        "wAvg([1,2,3], [.2,0,-.2,])\n",
        "\n",
        "\n"
      ],
      "metadata": {
        "colab": {
          "base_uri": "https://localhost:8080/"
        },
        "id": "5cX8xT4eAGas",
        "outputId": "990ffdc1-6893-4e58-d760-035661771cb9"
      },
      "execution_count": null,
      "outputs": [
        {
          "output_type": "execute_result",
          "data": {
            "text/plain": [
              "[]"
            ]
          },
          "metadata": {},
          "execution_count": 9
        }
      ]
    },
    {
      "cell_type": "markdown",
      "source": [
        "Novemver 11th"
      ],
      "metadata": {
        "id": "Fz0cBIXG21pS"
      }
    },
    {
      "cell_type": "code",
      "source": [
        "class Student:\n",
        "  def __init__(self, name, number):\n",
        "    self.name = name\n",
        "    self.number = number"
      ],
      "metadata": {
        "id": "9d3cLhta22u_"
      },
      "execution_count": 3,
      "outputs": []
    },
    {
      "cell_type": "code",
      "source": [
        "Student1 = Student('James Bond', '007')\n",
        "Student2 = Student('Clark Kent', '333')"
      ],
      "metadata": {
        "id": "5Fbfuk3A46A3"
      },
      "execution_count": 4,
      "outputs": []
    },
    {
      "cell_type": "code",
      "source": [
        "\n",
        "print(Student1.name, Student1.number)\n",
        "print(Student2.name, Student2.number)"
      ],
      "metadata": {
        "colab": {
          "base_uri": "https://localhost:8080/"
        },
        "id": "6y42O6cJ48qz",
        "outputId": "9a05ee97-7657-42da-f05d-5c0f78f18a16"
      },
      "execution_count": 5,
      "outputs": [
        {
          "output_type": "stream",
          "name": "stdout",
          "text": [
            "James Bond 007\n",
            "Clark Kent 333\n"
          ]
        }
      ]
    }
  ]
}